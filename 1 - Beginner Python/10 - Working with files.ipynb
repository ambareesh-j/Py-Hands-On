{
 "cells": [
  {
   "cell_type": "markdown",
   "metadata": {},
   "source": [
    "# Working with files"
   ]
  },
  {
   "cell_type": "code",
   "execution_count": 1,
   "metadata": {},
   "outputs": [],
   "source": [
    "# Your programs can read from files and write to files. \n",
    "# Files are opened in read mode ('r') by default, \n",
    "# but can also be opened in write mode ('w') \n",
    "# and append mode ('a')."
   ]
  },
  {
   "cell_type": "code",
   "execution_count": null,
   "metadata": {},
   "outputs": [],
   "source": []
  },
  {
   "cell_type": "markdown",
   "metadata": {},
   "source": [
    "# Reading a .txt file and storing its lines"
   ]
  },
  {
   "cell_type": "code",
   "execution_count": 10,
   "metadata": {},
   "outputs": [
    {
     "name": "stdout",
     "output_type": "stream",
     "text": [
      "I love reading books and learning Python.\n"
     ]
    }
   ],
   "source": [
    "filename = 'Read_Text.txt'\n",
    "\n",
    "with open(filename) as file_obj:\n",
    "    lines = file_obj.readlines()\n",
    "    \n",
    "for line in lines:\n",
    "    print(line)"
   ]
  },
  {
   "cell_type": "code",
   "execution_count": null,
   "metadata": {},
   "outputs": [],
   "source": []
  },
  {
   "cell_type": "markdown",
   "metadata": {},
   "source": [
    "# Writing to a .txt file"
   ]
  },
  {
   "cell_type": "code",
   "execution_count": 13,
   "metadata": {},
   "outputs": [],
   "source": [
    "filename = 'Write_Text.txt'                     # You may create a new file altogether\n",
    "\n",
    "with open(filename, 'w') as file_obj:\n",
    "    file_obj.write(\"I love programming.\")"
   ]
  },
  {
   "cell_type": "code",
   "execution_count": null,
   "metadata": {},
   "outputs": [],
   "source": []
  },
  {
   "cell_type": "markdown",
   "metadata": {},
   "source": [
    "# Appending to a .txt file "
   ]
  },
  {
   "cell_type": "code",
   "execution_count": 15,
   "metadata": {},
   "outputs": [],
   "source": [
    "filename = 'Write_Text.txt'\n",
    "\n",
    "with open(filename, 'a') as file_obj:\n",
    "    file_obj.write(\"\\nI love data science\")         # \\n signifies new line"
   ]
  },
  {
   "cell_type": "code",
   "execution_count": null,
   "metadata": {},
   "outputs": [],
   "source": []
  },
  {
   "cell_type": "markdown",
   "metadata": {},
   "source": [
    "# Reading data from an absolute path"
   ]
  },
  {
   "cell_type": "code",
   "execution_count": 2,
   "metadata": {},
   "outputs": [
    {
     "name": "stdout",
     "output_type": "stream",
     "text": [
      "Region\tManager\n",
      "\n",
      "West\tAnna Andreadi\n",
      "\n",
      "East\tChuck Magee\n",
      "\n",
      "Central\tKelly Williams\n",
      "\n",
      "South\tCassandra Brandow\n",
      "\n"
     ]
    }
   ],
   "source": [
    "filename = \"D:\\Important Items\\My Projects\\Data Science Projects\\Data Mart\\Business\\Managers.txt\"\n",
    "\n",
    "with open(filename) as file_obj:\n",
    "    lines = file_obj.readlines()\n",
    "    \n",
    "for line in lines:\n",
    "    print(line)"
   ]
  },
  {
   "cell_type": "code",
   "execution_count": null,
   "metadata": {},
   "outputs": [],
   "source": []
  },
  {
   "cell_type": "markdown",
   "metadata": {},
   "source": [
    "# Storing data with JSON"
   ]
  },
  {
   "cell_type": "code",
   "execution_count": 13,
   "metadata": {},
   "outputs": [],
   "source": [
    "# The json module allows you to dump simple Python data structures into a file, \n",
    "# and load the data from that file the next time the program runs. \n",
    "# The JSON data format is not specific to Python, so you can share this kind of data with people who work \n",
    "# in other languages as well. Knowing how to manage exceptions is important when working with stored data. \n",
    "# You'll usually want to make sure the data you're trying to load exists before working with it."
   ]
  },
  {
   "cell_type": "markdown",
   "metadata": {},
   "source": [
    "# Using json.dump() to store data"
   ]
  },
  {
   "cell_type": "code",
   "execution_count": 14,
   "metadata": {},
   "outputs": [],
   "source": [
    "\"\"\"Store Some numbers\"\"\"\n",
    "\n",
    "import json\n",
    "\n",
    "numbers = [2,3,5,7,11]\n",
    "\n",
    "filename = 'prime_numbers.json'\n",
    "with open(filename, 'w') as file_obj:\n",
    "    json.dump(numbers,file_obj)"
   ]
  },
  {
   "cell_type": "markdown",
   "metadata": {},
   "source": [
    "# Using json.load() to read data"
   ]
  },
  {
   "cell_type": "code",
   "execution_count": 26,
   "metadata": {},
   "outputs": [
    {
     "name": "stdout",
     "output_type": "stream",
     "text": [
      "[2, 3, 5, 7, 11]\n"
     ]
    }
   ],
   "source": [
    "\"\"\"Load some previously stored numbers.\"\"\" \n",
    "\n",
    "import json \n",
    "\n",
    "filename = 'prime_numbers.json' \n",
    "with open(filename) as f_obj: \n",
    "    numbers = json.load(f_obj) \n",
    "    \n",
    "print(numbers)"
   ]
  },
  {
   "cell_type": "markdown",
   "metadata": {},
   "source": [
    "# Making sure the stored data exists"
   ]
  },
  {
   "cell_type": "code",
   "execution_count": 27,
   "metadata": {},
   "outputs": [
    {
     "name": "stdout",
     "output_type": "stream",
     "text": [
      "Can’t find numbers.json.\n"
     ]
    }
   ],
   "source": [
    "import json \n",
    "\n",
    "f_name = 'numbers.json' \n",
    "\n",
    "try: \n",
    "    with open(f_name) as f_obj: \n",
    "        numbers = json.load(f_obj) \n",
    "\n",
    "except FileNotFoundError: \n",
    "    msg = \"Can’t find {0}.\".format(f_name)                # What is {0}?\n",
    "    print(msg) \n",
    "\n",
    "else: \n",
    "    print(numbers)"
   ]
  }
 ],
 "metadata": {
  "kernelspec": {
   "display_name": "Python 3",
   "language": "python",
   "name": "python3"
  },
  "language_info": {
   "codemirror_mode": {
    "name": "ipython",
    "version": 3
   },
   "file_extension": ".py",
   "mimetype": "text/x-python",
   "name": "python",
   "nbconvert_exporter": "python",
   "pygments_lexer": "ipython3",
   "version": "3.8.5"
  }
 },
 "nbformat": 4,
 "nbformat_minor": 4
}
