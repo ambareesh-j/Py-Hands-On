{
 "cells": [
  {
   "cell_type": "markdown",
   "metadata": {},
   "source": [
    "# Class"
   ]
  },
  {
   "cell_type": "code",
   "execution_count": 5,
   "metadata": {},
   "outputs": [],
   "source": [
    "# Since Python is an object-oriented programming language almost \n",
    "# every element of it is an object — with its methods and properties.\n",
    "# Class acts as a blueprint for creating different objects. \n",
    "# Objects are an instance of a class, where the class is manifested in some program."
   ]
  },
  {
   "cell_type": "code",
   "execution_count": null,
   "metadata": {},
   "outputs": [],
   "source": []
  },
  {
   "cell_type": "markdown",
   "metadata": {},
   "source": [
    "# How to create a Class"
   ]
  },
  {
   "cell_type": "code",
   "execution_count": 4,
   "metadata": {},
   "outputs": [],
   "source": [
    "# Let’s create a class named TestClass, with one property/attribute named z:\n",
    "\n",
    "class TestClass:\n",
    "    z = 5"
   ]
  },
  {
   "cell_type": "markdown",
   "metadata": {},
   "source": [
    "# How To Create an Object"
   ]
  },
  {
   "cell_type": "code",
   "execution_count": 10,
   "metadata": {},
   "outputs": [
    {
     "name": "stdout",
     "output_type": "stream",
     "text": [
      "5\n"
     ]
    }
   ],
   "source": [
    "# As a next step, you can create an object using your class.\n",
    "\n",
    "p1 = TestClass()\n",
    "\n",
    "print(p1.z)"
   ]
  },
  {
   "cell_type": "code",
   "execution_count": null,
   "metadata": {},
   "outputs": [],
   "source": []
  },
  {
   "cell_type": "code",
   "execution_count": null,
   "metadata": {},
   "outputs": [],
   "source": [
    "# Another Example - \n",
    "\n",
    "class car(object):\n",
    "    'docstring'\n",
    "    \n",
    "    def init(self, color, doors, tires):\n",
    "        'Constructor'\n",
    "        self.color = color\n",
    "        self.doors = doors\n",
    "        self.tires = tires\n",
    "    \n",
    "    def brake(self):\n",
    "        'Stop the car'\n",
    "        return 'Braking'\n",
    "\n",
    "    def drive(self):\n",
    "        'Drive the car'\n",
    "        return 'I’m driving!'"
   ]
  },
  {
   "cell_type": "code",
   "execution_count": null,
   "metadata": {},
   "outputs": [],
   "source": []
  },
  {
   "cell_type": "markdown",
   "metadata": {},
   "source": [
    "# How to Create a Subclass"
   ]
  },
  {
   "cell_type": "code",
   "execution_count": 19,
   "metadata": {},
   "outputs": [
    {
     "ename": "SyntaxError",
     "evalue": "invalid character in identifier (<ipython-input-19-02eff21ff96b>, line 2)",
     "output_type": "error",
     "traceback": [
      "\u001b[1;36m  File \u001b[1;32m\"<ipython-input-19-02eff21ff96b>\"\u001b[1;36m, line \u001b[1;32m2\u001b[0m\n\u001b[1;33m    “””\u001b[0m\n\u001b[1;37m      ^\u001b[0m\n\u001b[1;31mSyntaxError\u001b[0m\u001b[1;31m:\u001b[0m invalid character in identifier\n"
     ]
    }
   ],
   "source": [
    "class Car(Vehicle):\n",
    "    “””\n",
    "    The Car class\n",
    "    “””\n",
    "\n",
    "    def brake(self):\n",
    "        “””\n",
    "        Override brake method\n",
    "        “””\n",
    "        return “The car class is breaking slowly!”\n",
    "\n",
    "if __name__ == “__main__”:\n",
    "    car = Car(“yellow”, 2, 4, “car”)\n",
    "    car.brake()\n",
    "    ‘The car class is breaking slowly!’\n",
    "    car.drive()\n",
    "    “I’m driving a yellow car!”"
   ]
  }
 ],
 "metadata": {
  "kernelspec": {
   "display_name": "Python 3",
   "language": "python",
   "name": "python3"
  },
  "language_info": {
   "codemirror_mode": {
    "name": "ipython",
    "version": 3
   },
   "file_extension": ".py",
   "mimetype": "text/x-python",
   "name": "python",
   "nbconvert_exporter": "python",
   "pygments_lexer": "ipython3",
   "version": "3.8.5"
  }
 },
 "nbformat": 4,
 "nbformat_minor": 4
}
