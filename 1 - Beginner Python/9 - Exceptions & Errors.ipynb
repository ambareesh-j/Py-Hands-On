{
 "cells": [
  {
   "cell_type": "code",
   "execution_count": 1,
   "metadata": {},
   "outputs": [],
   "source": [
    "# Python has a list of in-built exceptions (errors) that will pop up \n",
    "# whenever you make a mistake in your code. \n",
    "# As a newbie, it’s good to know how to fix these."
   ]
  },
  {
   "cell_type": "code",
   "execution_count": null,
   "metadata": {},
   "outputs": [],
   "source": []
  },
  {
   "cell_type": "markdown",
   "metadata": {},
   "source": [
    "# The Most Common Python Exceptions"
   ]
  },
  {
   "cell_type": "code",
   "execution_count": 2,
   "metadata": {},
   "outputs": [],
   "source": [
    "# AttributeError — pops up when an attribute reference or assignment fails.\n",
    "\n",
    "# IOError — emerges when some I/O operation (e.g. an open() function) fails for an I/O-related reason, e.g., “file not found” or “disk full”.\n",
    "\n",
    "# ImportError — comes up when an import statement cannot locate the module definition. Also, when a from… import can’t find a name that must be imported.\n",
    "\n",
    "# IndexError — emerges when a sequence subscript is out of range.\n",
    "\n",
    "# KeyError — raised when a dictionary key isn’t found in the set of existing keys.\n",
    "\n",
    "# KeyboardInterrupt — lights up when the user hits the interrupt key (such as Control-C or Delete).\n",
    "\n",
    "# NameError — shows up when a local or global name can’t be found.\n",
    "\n",
    "# OSError — indicated a system-related error.\n",
    "\n",
    "# SyntaxError — pops up when a parser encounters a syntax error.\n",
    "\n",
    "# TypeError — comes up when an operation or function is applied to an object of inappropriate type.\n",
    "\n",
    "# ValueError — raised when a built-in operation/function gets an argument that has the right type but not an appropriate value, and the situation is not described by a more precise exception such as IndexError.\n",
    "\n",
    "# ZeroDivisionError — emerges when the second argument of a division or modulo operation is zero."
   ]
  },
  {
   "cell_type": "code",
   "execution_count": null,
   "metadata": {},
   "outputs": [],
   "source": []
  },
  {
   "cell_type": "markdown",
   "metadata": {},
   "source": [
    "# How to Troubleshoot the Errors"
   ]
  },
  {
   "cell_type": "code",
   "execution_count": 3,
   "metadata": {},
   "outputs": [],
   "source": [
    "# Python has a useful statement, design just for the purpose \n",
    "# of handling exceptions — try/except statement.\n",
    "# Below example catches KeyErrors in a dictionary"
   ]
  },
  {
   "cell_type": "code",
   "execution_count": 14,
   "metadata": {},
   "outputs": [
    {
     "name": "stdout",
     "output_type": "stream",
     "text": [
      "That key does not exist!\n"
     ]
    }
   ],
   "source": [
    "my_dict = {'a':1, 'b':2, 'c':3}\n",
    "\n",
    "try:\n",
    "    value = my_dict['d']\n",
    "except KeyError:\n",
    "    print('That key does not exist!')"
   ]
  },
  {
   "cell_type": "code",
   "execution_count": 15,
   "metadata": {},
   "outputs": [],
   "source": [
    "# You can also detect several exceptions at once with a single statement"
   ]
  },
  {
   "cell_type": "code",
   "execution_count": 17,
   "metadata": {},
   "outputs": [
    {
     "name": "stdout",
     "output_type": "stream",
     "text": [
      "This key is not in the dictionary!\n"
     ]
    }
   ],
   "source": [
    "my_dict = {'a':1, 'b':2, 'c':3}\n",
    "\n",
    "try:\n",
    "    value = my_dict['d']\n",
    "except IndexError:\n",
    "    print('This index does not exist!')\n",
    "except KeyError:\n",
    "    print('This key is not in the dictionary!')\n",
    "except:\n",
    "    print('Some other problem happened!')"
   ]
  },
  {
   "cell_type": "code",
   "execution_count": null,
   "metadata": {},
   "outputs": [],
   "source": []
  },
  {
   "cell_type": "markdown",
   "metadata": {},
   "source": [
    "# try/except with else clause"
   ]
  },
  {
   "cell_type": "code",
   "execution_count": 18,
   "metadata": {},
   "outputs": [],
   "source": [
    "# Adding an else clause will help you confirm that no errors were found:"
   ]
  },
  {
   "cell_type": "code",
   "execution_count": 22,
   "metadata": {},
   "outputs": [
    {
     "name": "stdout",
     "output_type": "stream",
     "text": [
      "No error occurred!\n"
     ]
    }
   ],
   "source": [
    "my_dict = {'a':1, 'b':2, 'c':3}\n",
    "\n",
    "try:\n",
    "    value = my_dict['a']\n",
    "except KeyError:\n",
    "    print('A KeyError occurred!')\n",
    "else:\n",
    "    print('No error occurred!')"
   ]
  },
  {
   "cell_type": "code",
   "execution_count": null,
   "metadata": {},
   "outputs": [],
   "source": []
  },
  {
   "cell_type": "code",
   "execution_count": null,
   "metadata": {},
   "outputs": [],
   "source": []
  }
 ],
 "metadata": {
  "kernelspec": {
   "display_name": "Python 3",
   "language": "python",
   "name": "python3"
  },
  "language_info": {
   "codemirror_mode": {
    "name": "ipython",
    "version": 3
   },
   "file_extension": ".py",
   "mimetype": "text/x-python",
   "name": "python",
   "nbconvert_exporter": "python",
   "pygments_lexer": "ipython3",
   "version": "3.8.5"
  }
 },
 "nbformat": 4,
 "nbformat_minor": 4
}
