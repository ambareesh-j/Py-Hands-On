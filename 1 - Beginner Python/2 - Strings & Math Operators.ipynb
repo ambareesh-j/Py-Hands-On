{
 "cells": [
  {
   "cell_type": "code",
   "execution_count": 14,
   "metadata": {},
   "outputs": [],
   "source": [
    "# String Creation along with Multi-line strings"
   ]
  },
  {
   "cell_type": "code",
   "execution_count": 15,
   "metadata": {},
   "outputs": [
    {
     "name": "stdout",
     "output_type": "stream",
     "text": [
      "Let's Learn Python!\n"
     ]
    }
   ],
   "source": [
    "string_1 = \"Let's Learn Python!\"\n",
    "\n",
    "another_string = 'It may seem difficult first, but you can do it!'\n",
    "\n",
    "a_long_string = '''Yes, you can even master multi-line strings\n",
    "that cover more than one line\n",
    "with some practice'''\n",
    "\n",
    "print(string_1)"
   ]
  },
  {
   "cell_type": "code",
   "execution_count": null,
   "metadata": {},
   "outputs": [],
   "source": []
  },
  {
   "cell_type": "code",
   "execution_count": 17,
   "metadata": {},
   "outputs": [],
   "source": [
    "# String Concatenation\n",
    "# The next thing you can master is concatenation — a way to add two strings together using the “+” operator."
   ]
  },
  {
   "cell_type": "code",
   "execution_count": 21,
   "metadata": {},
   "outputs": [
    {
     "name": "stdout",
     "output_type": "stream",
     "text": [
      "I’m reading a new great book!\n"
     ]
    }
   ],
   "source": [
    "string_one = 'I’m reading '\n",
    "string_two = 'a new great book!'\n",
    "string_three = string_one + string_two\n",
    "\n",
    "print(string_three)\n"
   ]
  },
  {
   "cell_type": "code",
   "execution_count": null,
   "metadata": {},
   "outputs": [],
   "source": [
    "# Note: You can’t apply + operator to two different data types e.g. string + integer. If you try to do that, you’ll get the following Python error:\n",
    "# TypeError: Can’t convert ‘int’ object to str implicitly"
   ]
  },
  {
   "cell_type": "code",
   "execution_count": null,
   "metadata": {},
   "outputs": [],
   "source": []
  },
  {
   "cell_type": "code",
   "execution_count": 22,
   "metadata": {},
   "outputs": [],
   "source": [
    "# String Replication\n",
    "# As the name implies, this command lets you repeat the same string several times. This is done using * operator. \n",
    "# Mind that this operator acts as a replicator only with string data types. When applied to numbers, it acts as a multiplier."
   ]
  },
  {
   "cell_type": "code",
   "execution_count": 24,
   "metadata": {},
   "outputs": [
    {
     "name": "stdout",
     "output_type": "stream",
     "text": [
      "Alice Alice Alice Alice Alice \n"
     ]
    }
   ],
   "source": [
    "print('Alice ' * 5)\n"
   ]
  },
  {
   "cell_type": "code",
   "execution_count": null,
   "metadata": {},
   "outputs": [],
   "source": []
  },
  {
   "cell_type": "code",
   "execution_count": 25,
   "metadata": {},
   "outputs": [],
   "source": [
    "# Math Operators"
   ]
  },
  {
   "cell_type": "code",
   "execution_count": 30,
   "metadata": {},
   "outputs": [
    {
     "name": "stdout",
     "output_type": "stream",
     "text": [
      "24\n",
      "20\n",
      "44\n",
      "11.0\n",
      "11\n",
      "0\n",
      "484\n"
     ]
    }
   ],
   "source": [
    "print(22 + 2)    # Addition\n",
    "print(22 - 2)    # Subtraction\n",
    "print(22 * 2)    # Multiplication\n",
    "print(22 / 2)    # Division\n",
    "print(22 // 2)   # Integer Division\n",
    "print(22 % 2)    # Modulus/Remainder\n",
    "print(22 ** 2)   # Exponent"
   ]
  },
  {
   "cell_type": "code",
   "execution_count": null,
   "metadata": {},
   "outputs": [],
   "source": []
  }
 ],
 "metadata": {
  "kernelspec": {
   "display_name": "Python 3",
   "language": "python",
   "name": "python3"
  },
  "language_info": {
   "codemirror_mode": {
    "name": "ipython",
    "version": 3
   },
   "file_extension": ".py",
   "mimetype": "text/x-python",
   "name": "python",
   "nbconvert_exporter": "python",
   "pygments_lexer": "ipython3",
   "version": "3.8.5"
  }
 },
 "nbformat": 4,
 "nbformat_minor": 4
}
