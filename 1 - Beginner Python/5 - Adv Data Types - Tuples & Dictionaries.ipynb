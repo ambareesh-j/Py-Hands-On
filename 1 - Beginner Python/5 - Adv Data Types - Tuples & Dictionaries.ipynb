{
 "cells": [
  {
   "cell_type": "code",
   "execution_count": 1,
   "metadata": {},
   "outputs": [],
   "source": [
    "# Tuples\n",
    "# Tuples are similar to lists — they allow you to display an ordered sequence of elements. \n",
    "# However, they are immutable and you can’t change the values stored in a tuple.\n",
    "# The advantage of using tuples over lists is that the former are slightly faster. So it’s a nice way to optimize your code."
   ]
  },
  {
   "cell_type": "code",
   "execution_count": 3,
   "metadata": {},
   "outputs": [
    {
     "name": "stdout",
     "output_type": "stream",
     "text": [
      "(1, 2, 3)\n"
     ]
    }
   ],
   "source": [
    "my_tuple = (1, 2, 3, 4, 5)\n",
    "print(my_tuple[0:3])"
   ]
  },
  {
   "cell_type": "code",
   "execution_count": null,
   "metadata": {},
   "outputs": [],
   "source": [
    "# Note: Once you create a tuple, you can’t add new items to it or change it in any other way!"
   ]
  },
  {
   "cell_type": "code",
   "execution_count": null,
   "metadata": {},
   "outputs": [],
   "source": []
  },
  {
   "cell_type": "code",
   "execution_count": 4,
   "metadata": {},
   "outputs": [],
   "source": [
    "# Slicing a Tuple\n",
    "# Similar to Slicing the lists"
   ]
  },
  {
   "cell_type": "code",
   "execution_count": 5,
   "metadata": {},
   "outputs": [
    {
     "name": "stdout",
     "output_type": "stream",
     "text": [
      "(1, 3, 5, 7, 9)\n"
     ]
    }
   ],
   "source": [
    "numbers = (0, 1, 2, 3, 4, 5, 6, 7, 8, 9, 10, 11, 12)\n",
    "print(numbers[1:11:2])"
   ]
  },
  {
   "cell_type": "code",
   "execution_count": 13,
   "metadata": {},
   "outputs": [
    {
     "name": "stdout",
     "output_type": "stream",
     "text": [
      "('a', 'c', 'e', 'g', 'i', 'k', 'm', 'o')\n",
      "('b', 'e', 'h', 'k', 'n')\n"
     ]
    }
   ],
   "source": [
    "chars = ('a','b','c','d','e','f','g','h','i','j','k','l','m','n','o')\n",
    "print(chars[0:15:2])\n",
    "print(chars[1:15:3])"
   ]
  },
  {
   "cell_type": "code",
   "execution_count": null,
   "metadata": {},
   "outputs": [],
   "source": []
  },
  {
   "cell_type": "code",
   "execution_count": null,
   "metadata": {},
   "outputs": [],
   "source": [
    "# Convert a Tuple into a List\n",
    "# Since Tuples are immutable, you can’t change them. \n",
    "# What you can do though is convert a tuple into a list, make an edit and then convert it back to a tuple"
   ]
  },
  {
   "cell_type": "code",
   "execution_count": 21,
   "metadata": {},
   "outputs": [
    {
     "name": "stdout",
     "output_type": "stream",
     "text": [
      "<class 'tuple'>\n",
      "<class 'list'>\n",
      "('apple', 'grape', 'pear')\n"
     ]
    }
   ],
   "source": [
    "x = ('apple', 'orange', 'pear')\n",
    "print(type(x)) \n",
    "\n",
    "y = list(x)\n",
    "print(type(y))\n",
    "\n",
    "y[1] = 'grape'                # Tuple object doesn't support item assignment, so we convert into list first and revert to tuple\n",
    "x = tuple(y)\n",
    "print(x)"
   ]
  },
  {
   "cell_type": "code",
   "execution_count": null,
   "metadata": {},
   "outputs": [],
   "source": []
  },
  {
   "cell_type": "code",
   "execution_count": null,
   "metadata": {},
   "outputs": [],
   "source": [
    "# Dictionaries\n",
    "# A dictionary holds indexes with keys that are mapped to certain values. \n",
    "# These key-value pairs offer a great way of organizing and storing data in Python. \n",
    "# They are mutable, meaning you can change the stored information.\n",
    "# A key value can be either a string, Boolean, or integer"
   ]
  },
  {
   "cell_type": "code",
   "execution_count": 30,
   "metadata": {},
   "outputs": [
    {
     "name": "stdout",
     "output_type": "stream",
     "text": [
      "<class 'dict'>\n",
      "{'username': 'john-cena', 'online': False, 'friends': 100}\n"
     ]
    }
   ],
   "source": [
    "Customer1 = {'username': 'john-cena', \n",
    "             'online': False, \n",
    "             'friends':100}\n",
    "\n",
    "print(type(Customer1))\n",
    "print(Customer1)"
   ]
  },
  {
   "cell_type": "code",
   "execution_count": null,
   "metadata": {},
   "outputs": [],
   "source": []
  },
  {
   "cell_type": "code",
   "execution_count": null,
   "metadata": {},
   "outputs": [],
   "source": [
    "# Dict() function\n",
    "# Create a new dictionary - another option\n",
    "# Option 1: new_dict = {}     ---> This is shown above\n",
    "# Option 2: other_dict= dict()"
   ]
  },
  {
   "cell_type": "code",
   "execution_count": 32,
   "metadata": {},
   "outputs": [
    {
     "name": "stdout",
     "output_type": "stream",
     "text": [
      "{'username': 'john-cena', 'online': False, 'friends': 100}\n"
     ]
    }
   ],
   "source": [
    "Customer_copy = dict(Customer1)               \n",
    "print(Customer_copy)"
   ]
  },
  {
   "cell_type": "code",
   "execution_count": null,
   "metadata": {},
   "outputs": [],
   "source": []
  },
  {
   "cell_type": "code",
   "execution_count": null,
   "metadata": {},
   "outputs": [],
   "source": [
    "# How to access a value in a dictionary"
   ]
  },
  {
   "cell_type": "code",
   "execution_count": 34,
   "metadata": {},
   "outputs": [
    {
     "name": "stdout",
     "output_type": "stream",
     "text": [
      "john-cena\n"
     ]
    }
   ],
   "source": [
    "x = Customer1['username']\n",
    "print(x)"
   ]
  },
  {
   "cell_type": "code",
   "execution_count": null,
   "metadata": {},
   "outputs": [],
   "source": [
    "# Also use the following methods to accomplish the same\n",
    "# dict.keys() isolates keys\n",
    "# dict.values() isolates values\n",
    "# dict.items() returns items in a list format of (key, value) tuple pairs"
   ]
  },
  {
   "cell_type": "code",
   "execution_count": 35,
   "metadata": {},
   "outputs": [
    {
     "data": {
      "text/plain": [
       "dict_keys(['username', 'online', 'friends'])"
      ]
     },
     "execution_count": 35,
     "metadata": {},
     "output_type": "execute_result"
    }
   ],
   "source": [
    "Customer1.keys()"
   ]
  },
  {
   "cell_type": "code",
   "execution_count": 36,
   "metadata": {},
   "outputs": [
    {
     "data": {
      "text/plain": [
       "dict_values(['john-cena', False, 100])"
      ]
     },
     "execution_count": 36,
     "metadata": {},
     "output_type": "execute_result"
    }
   ],
   "source": [
    "Customer1.values()"
   ]
  },
  {
   "cell_type": "code",
   "execution_count": 37,
   "metadata": {},
   "outputs": [
    {
     "data": {
      "text/plain": [
       "dict_items([('username', 'john-cena'), ('online', False), ('friends', 100)])"
      ]
     },
     "execution_count": 37,
     "metadata": {},
     "output_type": "execute_result"
    }
   ],
   "source": [
    "Customer1.items()"
   ]
  },
  {
   "cell_type": "code",
   "execution_count": null,
   "metadata": {},
   "outputs": [],
   "source": []
  },
  {
   "cell_type": "code",
   "execution_count": null,
   "metadata": {},
   "outputs": [],
   "source": [
    "# Change item values in a Dictionary"
   ]
  },
  {
   "cell_type": "code",
   "execution_count": 39,
   "metadata": {},
   "outputs": [
    {
     "name": "stdout",
     "output_type": "stream",
     "text": [
      "{'username': 'Dwayne-Johnson', 'online': False, 'friends': 100}\n"
     ]
    }
   ],
   "source": [
    "Customer1['username'] = 'Dwayne-Johnson'\n",
    "print(Customer1)"
   ]
  },
  {
   "cell_type": "code",
   "execution_count": null,
   "metadata": {},
   "outputs": [],
   "source": []
  },
  {
   "cell_type": "code",
   "execution_count": null,
   "metadata": {},
   "outputs": [],
   "source": [
    "# Loop through the Dictionary (using For loop)"
   ]
  },
  {
   "cell_type": "code",
   "execution_count": 40,
   "metadata": {},
   "outputs": [
    {
     "name": "stdout",
     "output_type": "stream",
     "text": [
      "username\n",
      "online\n",
      "friends\n"
     ]
    }
   ],
   "source": [
    "# To print all the keys of a Dictionary\n",
    "for x in Customer1:\n",
    "    print(x)"
   ]
  },
  {
   "cell_type": "code",
   "execution_count": 41,
   "metadata": {},
   "outputs": [
    {
     "name": "stdout",
     "output_type": "stream",
     "text": [
      "Dwayne-Johnson\n",
      "False\n",
      "100\n"
     ]
    }
   ],
   "source": [
    "# To print all the values of a Dictionary (with reference to keys)\n",
    "for x in Customer1:\n",
    "    print(Customer1[x])"
   ]
  },
  {
   "cell_type": "code",
   "execution_count": 42,
   "metadata": {},
   "outputs": [
    {
     "name": "stdout",
     "output_type": "stream",
     "text": [
      "username Dwayne-Johnson\n",
      "online False\n",
      "friends 100\n"
     ]
    }
   ],
   "source": [
    "# Loop through both keys and values \n",
    "for x,y in Customer1.items():\n",
    "    print(x,y)"
   ]
  },
  {
   "cell_type": "code",
   "execution_count": null,
   "metadata": {},
   "outputs": [],
   "source": []
  }
 ],
 "metadata": {
  "kernelspec": {
   "display_name": "Python 3",
   "language": "python",
   "name": "python3"
  },
  "language_info": {
   "codemirror_mode": {
    "name": "ipython",
    "version": 3
   },
   "file_extension": ".py",
   "mimetype": "text/x-python",
   "name": "python",
   "nbconvert_exporter": "python",
   "pygments_lexer": "ipython3",
   "version": "3.8.5"
  }
 },
 "nbformat": 4,
 "nbformat_minor": 4
}
