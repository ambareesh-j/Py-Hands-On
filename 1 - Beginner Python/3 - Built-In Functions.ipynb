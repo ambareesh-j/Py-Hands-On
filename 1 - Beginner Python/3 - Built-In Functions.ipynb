{
 "cells": [
  {
   "cell_type": "code",
   "execution_count": 2,
   "metadata": {},
   "outputs": [],
   "source": [
    "# print() function"
   ]
  },
  {
   "cell_type": "code",
   "execution_count": 3,
   "metadata": {},
   "outputs": [
    {
     "name": "stdout",
     "output_type": "stream",
     "text": [
      "India is a beautiful place\n"
     ]
    }
   ],
   "source": [
    "print(\"India is a beautiful place\")"
   ]
  },
  {
   "cell_type": "code",
   "execution_count": null,
   "metadata": {},
   "outputs": [],
   "source": []
  },
  {
   "cell_type": "code",
   "execution_count": 4,
   "metadata": {},
   "outputs": [],
   "source": [
    "# input() function\n",
    "# input() function is a simple way to prompt the user for some input (e.g. provide their name). \n",
    "# All user input is stored as a string."
   ]
  },
  {
   "cell_type": "code",
   "execution_count": 13,
   "metadata": {},
   "outputs": [
    {
     "name": "stdout",
     "output_type": "stream",
     "text": [
      "Hi! What’s your name? Amby\n",
      "Nice to meet you Amby!\n"
     ]
    }
   ],
   "source": [
    "name = input('Hi! What’s your name? ')\n",
    "print('Nice to meet you ' + name + '!')"
   ]
  },
  {
   "cell_type": "code",
   "execution_count": 12,
   "metadata": {},
   "outputs": [
    {
     "name": "stdout",
     "output_type": "stream",
     "text": [
      "How old are you 28\n",
      "So, you are already 28 years old, !\n"
     ]
    }
   ],
   "source": [
    "age = input(\"How old are you \")\n",
    "print(\"So, you are already \" + str(age) + ' years old, ' + name + '!')"
   ]
  },
  {
   "cell_type": "code",
   "execution_count": null,
   "metadata": {},
   "outputs": [],
   "source": []
  },
  {
   "cell_type": "code",
   "execution_count": 14,
   "metadata": {},
   "outputs": [],
   "source": [
    "# len() Function\n",
    "# len() function helps you find the length of any string, list, tuple, dictionary, or another data type. \n",
    "# It’s a handy command to determine excessive values and trim them to optimize the performance of your program."
   ]
  },
  {
   "cell_type": "code",
   "execution_count": 16,
   "metadata": {},
   "outputs": [
    {
     "name": "stdout",
     "output_type": "stream",
     "text": [
      "The length of the string is : 35\n"
     ]
    }
   ],
   "source": [
    "str1 = 'Hope you are enjoying our tutorial!'\n",
    "print('The length of the string is :', len(str1))"
   ]
  },
  {
   "cell_type": "code",
   "execution_count": null,
   "metadata": {},
   "outputs": [],
   "source": []
  },
  {
   "cell_type": "code",
   "execution_count": 17,
   "metadata": {},
   "outputs": [],
   "source": [
    "# filter() function\n",
    "# Use the Filter() function to exclude items in an iterable object (lists, tuples, dictionaries, etc)"
   ]
  },
  {
   "cell_type": "code",
   "execution_count": 26,
   "metadata": {},
   "outputs": [
    {
     "name": "stdout",
     "output_type": "stream",
     "text": [
      "<filter object at 0x000001F1546AB670>\n",
      "18\n",
      "24\n",
      "32\n"
     ]
    }
   ],
   "source": [
    "ages = [5, 12, 17, 18, 24, 32]\n",
    "\n",
    "def myFunc(x):\n",
    "    if x < 18:\n",
    "        return False\n",
    "    else:\n",
    "        return True\n",
    "    \n",
    "adults = filter(myFunc, ages)\n",
    "\n",
    "print(adults)\n",
    "\n",
    "for x in adults:\n",
    "    print(x)"
   ]
  },
  {
   "cell_type": "code",
   "execution_count": null,
   "metadata": {},
   "outputs": [],
   "source": []
  },
  {
   "cell_type": "code",
   "execution_count": 31,
   "metadata": {},
   "outputs": [],
   "source": [
    "# Define a function and specify the arguments"
   ]
  },
  {
   "cell_type": "code",
   "execution_count": 34,
   "metadata": {},
   "outputs": [
    {
     "name": "stdout",
     "output_type": "stream",
     "text": [
      "3 5 4\n"
     ]
    }
   ],
   "source": [
    "def add_2_nums(x,y,z):\n",
    "    a = x + y\n",
    "    b = y + z\n",
    "    c = z + x\n",
    "    print(a, b, c)\n",
    "    \n",
    "add_2_nums(1,2,3)"
   ]
  },
  {
   "cell_type": "code",
   "execution_count": null,
   "metadata": {},
   "outputs": [],
   "source": []
  },
  {
   "cell_type": "code",
   "execution_count": 35,
   "metadata": {},
   "outputs": [],
   "source": [
    "# Pass Keyword Arguments to a Function\n",
    "# A function can also accept keyword arguments. \n",
    "# In this case, you can use parameters in random order as the Python interpreter will use the provided keywords \n",
    "# to match the values to the parameters."
   ]
  },
  {
   "cell_type": "code",
   "execution_count": 1,
   "metadata": {},
   "outputs": [
    {
     "name": "stdout",
     "output_type": "stream",
     "text": [
      "productname: White T-shirt\n",
      "Price $15\n",
      "productname: jeans\n",
      "Price $45\n"
     ]
    }
   ],
   "source": [
    "# Define function with parameters\n",
    "def product_info(productname, price):\n",
    "    print('productname: ' + productname)\n",
    "    print('Price $' + str(price))\n",
    "\n",
    "# Call function with parameters assigned as above\n",
    "product_info('White T-shirt', 15)\n",
    "\n",
    "# Call function with keyword arguments\n",
    "product_info(productname='jeans', price=45)"
   ]
  },
  {
   "cell_type": "code",
   "execution_count": null,
   "metadata": {},
   "outputs": [],
   "source": []
  },
  {
   "cell_type": "code",
   "execution_count": 2,
   "metadata": {},
   "outputs": [],
   "source": [
    "# Default values for parameters while passing arguments"
   ]
  },
  {
   "cell_type": "code",
   "execution_count": 4,
   "metadata": {},
   "outputs": [
    {
     "name": "stdout",
     "output_type": "stream",
     "text": [
      "Have a bacon pizza!\n",
      "Have a pepperoni pizza!\n"
     ]
    }
   ],
   "source": [
    "def make_pizza(topping='bacon'): \n",
    "    \"\"\"Make a single-topping pizza.\"\"\" \n",
    "    print(\"Have a \" + topping + \" pizza!\") \n",
    "\n",
    "make_pizza() \n",
    "make_pizza('pepperoni')"
   ]
  },
  {
   "cell_type": "code",
   "execution_count": null,
   "metadata": {},
   "outputs": [],
   "source": []
  },
  {
   "cell_type": "code",
   "execution_count": 5,
   "metadata": {},
   "outputs": [],
   "source": [
    "# Returning a Value"
   ]
  },
  {
   "cell_type": "code",
   "execution_count": 6,
   "metadata": {},
   "outputs": [
    {
     "name": "stdout",
     "output_type": "stream",
     "text": [
      "8\n"
     ]
    }
   ],
   "source": [
    "def add_numbers(x, y): \n",
    "    \"\"\"Add two numbers and return the sum.\"\"\" \n",
    "    return x + y \n",
    "\n",
    "sum = add_numbers(3, 5) \n",
    "print(sum)"
   ]
  }
 ],
 "metadata": {
  "kernelspec": {
   "display_name": "Python 3",
   "language": "python",
   "name": "python3"
  },
  "language_info": {
   "codemirror_mode": {
    "name": "ipython",
    "version": 3
   },
   "file_extension": ".py",
   "mimetype": "text/x-python",
   "name": "python",
   "nbconvert_exporter": "python",
   "pygments_lexer": "ipython3",
   "version": "3.8.5"
  }
 },
 "nbformat": 4,
 "nbformat_minor": 4
}
