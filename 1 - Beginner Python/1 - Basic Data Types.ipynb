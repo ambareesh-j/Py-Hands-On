Integers (int) — an integer number to represent an object such as “number 3”.

Integers
-2, -1, 0, 1, 2, 3, 4, 5

Floating-point numbers (float) — use them to represent floating-point numbers.

Floating-point numbers
-1.25, -1.0, --0.5, 0.0, 0.5, 1.0, 1.25

Strings — codify a sequence of characters using a string. For example, the word “hello”. In Python 3, strings are immutable. If you already defined one, you cannot change it later on.
While you can modify a string with commands such as replace() or join(), they will create a copy of a string and apply modification to it, rather than rewrite the original one.

Strings
‘yo’, ‘hey’, ‘Hello!’, ‘what’s up!’
