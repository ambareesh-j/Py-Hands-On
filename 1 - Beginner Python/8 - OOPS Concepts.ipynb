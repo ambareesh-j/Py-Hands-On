{
 "cells": [
  {
   "cell_type": "markdown",
   "metadata": {},
   "source": [
    "# Class"
   ]
  },
  {
   "cell_type": "code",
   "execution_count": 5,
   "metadata": {},
   "outputs": [],
   "source": [
    "# Since Python is an object-oriented programming language almost \n",
    "# every element of it is an object — with its methods and properties.\n",
    "# Class acts as a blueprint for creating different objects. \n",
    "# Objects are an instance of a class, where the class is manifested in some program."
   ]
  },
  {
   "cell_type": "code",
   "execution_count": null,
   "metadata": {},
   "outputs": [],
   "source": []
  },
  {
   "cell_type": "markdown",
   "metadata": {},
   "source": [
    "# How to create a Class"
   ]
  },
  {
   "cell_type": "code",
   "execution_count": 4,
   "metadata": {},
   "outputs": [],
   "source": [
    "# Let’s create a class named TestClass, with one property/attribute named z:\n",
    "\n",
    "class TestClass:\n",
    "    z = 5"
   ]
  },
  {
   "cell_type": "markdown",
   "metadata": {},
   "source": [
    "# How To Create an Object"
   ]
  },
  {
   "cell_type": "code",
   "execution_count": 10,
   "metadata": {},
   "outputs": [
    {
     "name": "stdout",
     "output_type": "stream",
     "text": [
      "5\n"
     ]
    }
   ],
   "source": [
    "# As a next step, you can create an object using your class.\n",
    "\n",
    "p1 = TestClass()\n",
    "\n",
    "print(p1.z)"
   ]
  },
  {
   "cell_type": "code",
   "execution_count": null,
   "metadata": {},
   "outputs": [],
   "source": []
  },
  {
   "cell_type": "code",
   "execution_count": null,
   "metadata": {},
   "outputs": [],
   "source": [
    "# A class defines the behavior of an object and the kind of information an object can store. \n",
    "# The information in a class is stored in attributes, and functions that belong to a class are called methods. \n",
    "# A child class inherits the attributes and methods from its parent class."
   ]
  },
  {
   "cell_type": "code",
   "execution_count": 4,
   "metadata": {},
   "outputs": [
    {
     "name": "stdout",
     "output_type": "stream",
     "text": [
      "Peso is a great dog!\n",
      "Peso is sitting.\n"
     ]
    }
   ],
   "source": [
    "# Another Example - \n",
    "\n",
    "class Dog(): \n",
    "    \"\"\"Represent a dog.\"\"\" \n",
    "    \n",
    "    def __init__(self, name): \n",
    "        \"\"\"Initialize dog object.\"\"\" \n",
    "        self.name = name \n",
    "    \n",
    "    def sit(self): \n",
    "        \"\"\"Simulate sitting.\"\"\" \n",
    "        print(self.name + \" is sitting.\") \n",
    "        \n",
    "my_dog = Dog('Peso') \n",
    "\n",
    "print(my_dog.name + \" is a great dog!\") \n",
    "my_dog.sit()"
   ]
  },
  {
   "cell_type": "code",
   "execution_count": null,
   "metadata": {},
   "outputs": [],
   "source": []
  },
  {
   "cell_type": "markdown",
   "metadata": {},
   "source": [
    "# How to Create a Subclass / Inheritance"
   ]
  },
  {
   "cell_type": "code",
   "execution_count": 2,
   "metadata": {},
   "outputs": [
    {
     "name": "stdout",
     "output_type": "stream",
     "text": [
      "Willie is a search dog.\n",
      "Willie is sitting.\n",
      "Willie is searching.\n"
     ]
    }
   ],
   "source": [
    "class SARDog(Dog): \n",
    "    \"\"\"Represent a search dog.\"\"\" \n",
    "    \n",
    "    def __init__(self, name): \n",
    "        \"\"\"Initialize the sardog.\"\"\" \n",
    "        super().__init__(name) \n",
    "        \n",
    "    def search(self): \n",
    "        \"\"\"Simulate searching.\"\"\" \n",
    "        print(self.name + \" is searching.\") \n",
    "            \n",
    "my_dog = SARDog('Willie') \n",
    "\n",
    "print(my_dog.name + \" is a search dog.\") \n",
    "\n",
    "my_dog.sit() \n",
    "my_dog.search()"
   ]
  },
  {
   "cell_type": "code",
   "execution_count": null,
   "metadata": {},
   "outputs": [],
   "source": []
  },
  {
   "cell_type": "code",
   "execution_count": null,
   "metadata": {},
   "outputs": [],
   "source": []
  }
 ],
 "metadata": {
  "kernelspec": {
   "display_name": "Python 3",
   "language": "python",
   "name": "python3"
  },
  "language_info": {
   "codemirror_mode": {
    "name": "ipython",
    "version": 3
   },
   "file_extension": ".py",
   "mimetype": "text/x-python",
   "name": "python",
   "nbconvert_exporter": "python",
   "pygments_lexer": "ipython3",
   "version": "3.8.5"
  }
 },
 "nbformat": 4,
 "nbformat_minor": 4
}
